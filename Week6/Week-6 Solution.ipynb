{
 "cells": [
  {
   "cell_type": "code",
   "execution_count": 1,
   "id": "111fda2c",
   "metadata": {},
   "outputs": [],
   "source": [
    "import sqlite3"
   ]
  },
  {
   "cell_type": "code",
   "execution_count": 5,
   "id": "776b5964",
   "metadata": {},
   "outputs": [],
   "source": [
    "con=sqlite3.connect('C://22bca211//python//result.db')"
   ]
  },
  {
   "cell_type": "code",
   "execution_count": 6,
   "id": "4d51e01e",
   "metadata": {},
   "outputs": [],
   "source": [
    "cur=con.cursor()"
   ]
  },
  {
   "cell_type": "code",
   "execution_count": 7,
   "id": "bc1ab917",
   "metadata": {},
   "outputs": [],
   "source": [
    "create_tbl='''create table if not exists result_tbl\n",
    "              (\n",
    "                  Student_id int Primary key,\n",
    "                  Student_name text NOT NULL,\n",
    "                  subject1_marks int,\n",
    "                  subject2_marks int,\n",
    "                  subject3_marks int,\n",
    "                  subject4_marks int,\n",
    "                  subject5_marks int)'''"
   ]
  },
  {
   "cell_type": "code",
   "execution_count": 8,
   "id": "3a8ecb87",
   "metadata": {},
   "outputs": [
    {
     "data": {
      "text/plain": [
       "<sqlite3.Cursor at 0x273af334540>"
      ]
     },
     "execution_count": 8,
     "metadata": {},
     "output_type": "execute_result"
    }
   ],
   "source": [
    "cur.execute(create_tbl)"
   ]
  },
  {
   "cell_type": "code",
   "execution_count": 16,
   "id": "2a2aa673",
   "metadata": {},
   "outputs": [],
   "source": [
    "insert_record='''insert into result_tbl values(1,'om patel',60,70,77,80,50),\n",
    "                                              (2,'Sai Patil',65,57,55,82,63),\n",
    "                                              (3,'Ram patel',97,98,97,98,76),\n",
    "                                              (4,'Radha sharma',89,65,55,48,90),\n",
    "                                              (5,'kishan Desai',45,60,97,88,46),\n",
    "                                              (6,'Shiv Prajapati',62,63,66,68,75),\n",
    "                                              (7,'bhim Prajapati',59,55,63,70,61),\n",
    "                                              (8,'arjun Patil',60,65,65,52,66),\n",
    "                                              (9,'krishna patel',67,55,67,50,98),\n",
    "                                              (10,'Radhe solanki',89,98,87,88,86)'''"
   ]
  },
  {
   "cell_type": "code",
   "execution_count": 17,
   "id": "1921a3a4",
   "metadata": {},
   "outputs": [
    {
     "data": {
      "text/plain": [
       "<sqlite3.Cursor at 0x273af334540>"
      ]
     },
     "execution_count": 17,
     "metadata": {},
     "output_type": "execute_result"
    }
   ],
   "source": [
    "cur.execute(insert_record)"
   ]
  },
  {
   "cell_type": "code",
   "execution_count": 18,
   "id": "b4393c6a",
   "metadata": {},
   "outputs": [],
   "source": [
    "records='select * from result_tbl'\n",
    "cur.execute(records)\n",
    "data=cur.fetchall()"
   ]
  },
  {
   "cell_type": "code",
   "execution_count": 19,
   "id": "fecd585e",
   "metadata": {},
   "outputs": [],
   "source": [
    "import csv"
   ]
  },
  {
   "cell_type": "code",
   "execution_count": 21,
   "id": "afa59b01",
   "metadata": {},
   "outputs": [],
   "source": [
    "with open('c://22bca211//Python//result.csv', 'w+', newline='') as file:\n",
    "    fileobj = csv.writer(file)\n",
    "    head = ['Student_ID', 'Student_Name', 'Subject1_Marks', 'Subject2_Marks', 'Subject3_Marks', 'Subject4_Marks', 'Subject5_Marks']\n",
    "    fileobj.writerow(head)\n",
    "    fileobj.writerows(data)"
   ]
  },
  {
   "cell_type": "code",
   "execution_count": 24,
   "id": "0bc47c93",
   "metadata": {},
   "outputs": [
    {
     "name": "stdout",
     "output_type": "stream",
     "text": [
      "Student_ID,Student_Name,Subject1_Marks,Subject2_Marks,Subject3_Marks,Subject4_Marks,Subject5_Marks,Total_Marks,Percentage,Grade\r\n",
      "\n",
      "1,om patel,60,70,77,80,50,337,67.4,C\r\n",
      "\n",
      "2,Sai Patil,65,57,55,82,63,322,64.4,C\r\n",
      "\n",
      "3,Ram patel,97,98,97,98,76,466,93.2,A+\r\n",
      "\n",
      "4,Radha sharma,89,65,55,48,90,347,69.39999999999999,C\r\n",
      "\n",
      "5,kishan Desai,45,60,97,88,46,336,67.2,C\r\n",
      "\n",
      "6,Shiv Prajapati,62,63,66,68,75,334,66.8,C\r\n",
      "\n",
      "7,bhim Prajapati,59,55,63,70,61,308,61.6,C\r\n",
      "\n",
      "8,arjun Patil,60,65,65,52,66,308,61.6,C\r\n",
      "\n",
      "9,krishna patel,67,55,67,50,98,337,67.4,C\r\n",
      "\n",
      "10,Radhe solanki,89,98,87,88,86,448,89.60000000000001,A\r\n",
      "\n"
     ]
    }
   ],
   "source": [
    "with open('c://22bca211//Python//result.csv', 'r', newline='') as file, open('c://22bca211//Python//mainresult2.csv', 'w+', newline='') as file2:\n",
    "    allre=csv.reader(file)\n",
    "    fileobj=csv.writer(file2)\n",
    "    head=next(allre)\n",
    "    head.extend(['Total_Marks','Percentage','Grade'])\n",
    "    fileobj.writerow(head)\n",
    "    for i in allre:\n",
    "        totalmarks=int(i[2])+int(i[3])+int(i[4])+int(i[5])+int(i[6])\n",
    "        i.append(totalmarks)\n",
    "        percentage=i[7]/500*100\n",
    "        if percentage >= 90:\n",
    "            grade = 'A+'\n",
    "        elif percentage >= 80:\n",
    "            grade = 'A'\n",
    "        elif percentage >= 70:\n",
    "            grade = 'B'\n",
    "        elif percentage >=55 and percentage < 70:\n",
    "            grade = 'C'\n",
    "        elif percentage >=30 and percentage < 55 :\n",
    "            grade = 'D'\n",
    "        else:\n",
    "            grade = 'Fail'\n",
    "        i.extend([percentage,grade])\n",
    "        fileobj.writerow(i)\n",
    "    file2.seek(0)\n",
    "    \n",
    "    allrecords = file2.readlines()\n",
    "    for record in allrecords: \n",
    "            print(record)"
   ]
  },
  {
   "cell_type": "code",
   "execution_count": 26,
   "id": "65754488",
   "metadata": {},
   "outputs": [
    {
     "name": "stdout",
     "output_type": "stream",
     "text": [
      " Student_ID      Student_Name       Percentage   \n",
      "-----------------------------------------------------\n",
      "     3            Ram patel            93.2       \n",
      "     10         Radhe solanki     89.60000000000001 \n",
      "     4           Radha sharma     69.39999999999999 \n"
     ]
    }
   ],
   "source": [
    "with open('c://22bca211//Python//mainresult2.csv', 'r', newline='') as file2:\n",
    "    head = next(file2)\n",
    "    header = \"{:^12} {:^20} {:^15}\\n-----------------------------------------------------\".format('Student_ID', 'Student_Name', 'Percentage')\n",
    "    print(header)\n",
    "    d = csv.reader(file2)\n",
    "    d = sorted(d, key=lambda stud: stud[8], reverse=True)\n",
    "    c=0\n",
    "\n",
    "    for i in d:\n",
    "        record_line = \"{:^12} {:^20} {:^15} \".format(i[0], i[1], i[8])\n",
    "        print(record_line)\n",
    "        c+=1\n",
    "        if c==3:\n",
    "            break"
   ]
  },
  {
   "cell_type": "code",
   "execution_count": null,
   "id": "376579be",
   "metadata": {},
   "outputs": [],
   "source": []
  }
 ],
 "metadata": {
  "kernelspec": {
   "display_name": "Python 3 (ipykernel)",
   "language": "python",
   "name": "python3"
  },
  "language_info": {
   "codemirror_mode": {
    "name": "ipython",
    "version": 3
   },
   "file_extension": ".py",
   "mimetype": "text/x-python",
   "name": "python",
   "nbconvert_exporter": "python",
   "pygments_lexer": "ipython3",
   "version": "3.11.4"
  }
 },
 "nbformat": 4,
 "nbformat_minor": 5
}
